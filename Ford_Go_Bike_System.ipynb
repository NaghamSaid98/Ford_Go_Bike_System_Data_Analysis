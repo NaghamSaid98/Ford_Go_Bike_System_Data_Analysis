{
 "cells": [
  {
   "cell_type": "markdown",
   "metadata": {},
   "source": [
    "# Ford Go Bike System Data Analysis & visualization\n",
    "\n",
    "> This data set includes information about individual rides made in a bike-sharing system covering the greater San Francisco Bay area."
   ]
  },
  {
   "cell_type": "code",
   "execution_count": 1,
   "metadata": {},
   "outputs": [],
   "source": [
    "# import all packages and set plots to be embedded inline\n",
    "import numpy as np\n",
    "import pandas as pd\n",
    "import matplotlib.pyplot as plt\n",
    "import seaborn as sb\n",
    "\n",
    "%matplotlib inline"
   ]
  },
  {
   "cell_type": "markdown",
   "metadata": {},
   "source": [
    "## Loading Data"
   ]
  },
  {
   "cell_type": "code",
   "execution_count": 3,
   "metadata": {},
   "outputs": [],
   "source": [
    "df = pd.read_csv(\"201902-fordgobike-tripdata.csv\")"
   ]
  },
  {
   "cell_type": "markdown",
   "metadata": {},
   "source": [
    "## Assesing Data"
   ]
  },
  {
   "cell_type": "code",
   "execution_count": 4,
   "metadata": {},
   "outputs": [
    {
     "data": {
      "text/html": [
       "<div>\n",
       "<style scoped>\n",
       "    .dataframe tbody tr th:only-of-type {\n",
       "        vertical-align: middle;\n",
       "    }\n",
       "\n",
       "    .dataframe tbody tr th {\n",
       "        vertical-align: top;\n",
       "    }\n",
       "\n",
       "    .dataframe thead th {\n",
       "        text-align: right;\n",
       "    }\n",
       "</style>\n",
       "<table border=\"1\" class=\"dataframe\">\n",
       "  <thead>\n",
       "    <tr style=\"text-align: right;\">\n",
       "      <th></th>\n",
       "      <th>duration_sec</th>\n",
       "      <th>start_time</th>\n",
       "      <th>end_time</th>\n",
       "      <th>start_station_id</th>\n",
       "      <th>start_station_name</th>\n",
       "      <th>start_station_latitude</th>\n",
       "      <th>start_station_longitude</th>\n",
       "      <th>end_station_id</th>\n",
       "      <th>end_station_name</th>\n",
       "      <th>end_station_latitude</th>\n",
       "      <th>end_station_longitude</th>\n",
       "      <th>bike_id</th>\n",
       "      <th>user_type</th>\n",
       "      <th>member_birth_year</th>\n",
       "      <th>member_gender</th>\n",
       "      <th>bike_share_for_all_trip</th>\n",
       "    </tr>\n",
       "  </thead>\n",
       "  <tbody>\n",
       "    <tr>\n",
       "      <th>0</th>\n",
       "      <td>52185</td>\n",
       "      <td>2019-02-28 17:32:10.1450</td>\n",
       "      <td>2019-03-01 08:01:55.9750</td>\n",
       "      <td>21.0</td>\n",
       "      <td>Montgomery St BART Station (Market St at 2nd St)</td>\n",
       "      <td>37.789625</td>\n",
       "      <td>-122.400811</td>\n",
       "      <td>13.0</td>\n",
       "      <td>Commercial St at Montgomery St</td>\n",
       "      <td>37.794231</td>\n",
       "      <td>-122.402923</td>\n",
       "      <td>4902</td>\n",
       "      <td>Customer</td>\n",
       "      <td>1984.0</td>\n",
       "      <td>Male</td>\n",
       "      <td>No</td>\n",
       "    </tr>\n",
       "    <tr>\n",
       "      <th>1</th>\n",
       "      <td>42521</td>\n",
       "      <td>2019-02-28 18:53:21.7890</td>\n",
       "      <td>2019-03-01 06:42:03.0560</td>\n",
       "      <td>23.0</td>\n",
       "      <td>The Embarcadero at Steuart St</td>\n",
       "      <td>37.791464</td>\n",
       "      <td>-122.391034</td>\n",
       "      <td>81.0</td>\n",
       "      <td>Berry St at 4th St</td>\n",
       "      <td>37.775880</td>\n",
       "      <td>-122.393170</td>\n",
       "      <td>2535</td>\n",
       "      <td>Customer</td>\n",
       "      <td>NaN</td>\n",
       "      <td>NaN</td>\n",
       "      <td>No</td>\n",
       "    </tr>\n",
       "    <tr>\n",
       "      <th>2</th>\n",
       "      <td>61854</td>\n",
       "      <td>2019-02-28 12:13:13.2180</td>\n",
       "      <td>2019-03-01 05:24:08.1460</td>\n",
       "      <td>86.0</td>\n",
       "      <td>Market St at Dolores St</td>\n",
       "      <td>37.769305</td>\n",
       "      <td>-122.426826</td>\n",
       "      <td>3.0</td>\n",
       "      <td>Powell St BART Station (Market St at 4th St)</td>\n",
       "      <td>37.786375</td>\n",
       "      <td>-122.404904</td>\n",
       "      <td>5905</td>\n",
       "      <td>Customer</td>\n",
       "      <td>1972.0</td>\n",
       "      <td>Male</td>\n",
       "      <td>No</td>\n",
       "    </tr>\n",
       "    <tr>\n",
       "      <th>3</th>\n",
       "      <td>36490</td>\n",
       "      <td>2019-02-28 17:54:26.0100</td>\n",
       "      <td>2019-03-01 04:02:36.8420</td>\n",
       "      <td>375.0</td>\n",
       "      <td>Grove St at Masonic Ave</td>\n",
       "      <td>37.774836</td>\n",
       "      <td>-122.446546</td>\n",
       "      <td>70.0</td>\n",
       "      <td>Central Ave at Fell St</td>\n",
       "      <td>37.773311</td>\n",
       "      <td>-122.444293</td>\n",
       "      <td>6638</td>\n",
       "      <td>Subscriber</td>\n",
       "      <td>1989.0</td>\n",
       "      <td>Other</td>\n",
       "      <td>No</td>\n",
       "    </tr>\n",
       "    <tr>\n",
       "      <th>4</th>\n",
       "      <td>1585</td>\n",
       "      <td>2019-02-28 23:54:18.5490</td>\n",
       "      <td>2019-03-01 00:20:44.0740</td>\n",
       "      <td>7.0</td>\n",
       "      <td>Frank H Ogawa Plaza</td>\n",
       "      <td>37.804562</td>\n",
       "      <td>-122.271738</td>\n",
       "      <td>222.0</td>\n",
       "      <td>10th Ave at E 15th St</td>\n",
       "      <td>37.792714</td>\n",
       "      <td>-122.248780</td>\n",
       "      <td>4898</td>\n",
       "      <td>Subscriber</td>\n",
       "      <td>1974.0</td>\n",
       "      <td>Male</td>\n",
       "      <td>Yes</td>\n",
       "    </tr>\n",
       "  </tbody>\n",
       "</table>\n",
       "</div>"
      ],
      "text/plain": [
       "   duration_sec                start_time                  end_time  \\\n",
       "0         52185  2019-02-28 17:32:10.1450  2019-03-01 08:01:55.9750   \n",
       "1         42521  2019-02-28 18:53:21.7890  2019-03-01 06:42:03.0560   \n",
       "2         61854  2019-02-28 12:13:13.2180  2019-03-01 05:24:08.1460   \n",
       "3         36490  2019-02-28 17:54:26.0100  2019-03-01 04:02:36.8420   \n",
       "4          1585  2019-02-28 23:54:18.5490  2019-03-01 00:20:44.0740   \n",
       "\n",
       "   start_station_id                                start_station_name  \\\n",
       "0              21.0  Montgomery St BART Station (Market St at 2nd St)   \n",
       "1              23.0                     The Embarcadero at Steuart St   \n",
       "2              86.0                           Market St at Dolores St   \n",
       "3             375.0                           Grove St at Masonic Ave   \n",
       "4               7.0                               Frank H Ogawa Plaza   \n",
       "\n",
       "   start_station_latitude  start_station_longitude  end_station_id  \\\n",
       "0               37.789625              -122.400811            13.0   \n",
       "1               37.791464              -122.391034            81.0   \n",
       "2               37.769305              -122.426826             3.0   \n",
       "3               37.774836              -122.446546            70.0   \n",
       "4               37.804562              -122.271738           222.0   \n",
       "\n",
       "                               end_station_name  end_station_latitude  \\\n",
       "0                Commercial St at Montgomery St             37.794231   \n",
       "1                            Berry St at 4th St             37.775880   \n",
       "2  Powell St BART Station (Market St at 4th St)             37.786375   \n",
       "3                        Central Ave at Fell St             37.773311   \n",
       "4                         10th Ave at E 15th St             37.792714   \n",
       "\n",
       "   end_station_longitude  bike_id   user_type  member_birth_year  \\\n",
       "0            -122.402923     4902    Customer             1984.0   \n",
       "1            -122.393170     2535    Customer                NaN   \n",
       "2            -122.404904     5905    Customer             1972.0   \n",
       "3            -122.444293     6638  Subscriber             1989.0   \n",
       "4            -122.248780     4898  Subscriber             1974.0   \n",
       "\n",
       "  member_gender bike_share_for_all_trip  \n",
       "0          Male                      No  \n",
       "1           NaN                      No  \n",
       "2          Male                      No  \n",
       "3         Other                      No  \n",
       "4          Male                     Yes  "
      ]
     },
     "execution_count": 4,
     "metadata": {},
     "output_type": "execute_result"
    }
   ],
   "source": [
    "df.head()"
   ]
  },
  {
   "cell_type": "code",
   "execution_count": 5,
   "metadata": {},
   "outputs": [
    {
     "data": {
      "text/html": [
       "<div>\n",
       "<style scoped>\n",
       "    .dataframe tbody tr th:only-of-type {\n",
       "        vertical-align: middle;\n",
       "    }\n",
       "\n",
       "    .dataframe tbody tr th {\n",
       "        vertical-align: top;\n",
       "    }\n",
       "\n",
       "    .dataframe thead th {\n",
       "        text-align: right;\n",
       "    }\n",
       "</style>\n",
       "<table border=\"1\" class=\"dataframe\">\n",
       "  <thead>\n",
       "    <tr style=\"text-align: right;\">\n",
       "      <th></th>\n",
       "      <th>duration_sec</th>\n",
       "      <th>start_time</th>\n",
       "      <th>end_time</th>\n",
       "      <th>start_station_id</th>\n",
       "      <th>start_station_name</th>\n",
       "      <th>start_station_latitude</th>\n",
       "      <th>start_station_longitude</th>\n",
       "      <th>end_station_id</th>\n",
       "      <th>end_station_name</th>\n",
       "      <th>end_station_latitude</th>\n",
       "      <th>end_station_longitude</th>\n",
       "      <th>bike_id</th>\n",
       "      <th>user_type</th>\n",
       "      <th>member_birth_year</th>\n",
       "      <th>member_gender</th>\n",
       "      <th>bike_share_for_all_trip</th>\n",
       "    </tr>\n",
       "  </thead>\n",
       "  <tbody>\n",
       "    <tr>\n",
       "      <th>80612</th>\n",
       "      <td>743</td>\n",
       "      <td>2019-02-18 15:09:17.7510</td>\n",
       "      <td>2019-02-18 15:21:41.2220</td>\n",
       "      <td>10.0</td>\n",
       "      <td>Washington St at Kearny St</td>\n",
       "      <td>37.795393</td>\n",
       "      <td>-122.404770</td>\n",
       "      <td>368.0</td>\n",
       "      <td>Myrtle St at Polk St</td>\n",
       "      <td>37.785434</td>\n",
       "      <td>-122.419622</td>\n",
       "      <td>5480</td>\n",
       "      <td>Subscriber</td>\n",
       "      <td>1998.0</td>\n",
       "      <td>Male</td>\n",
       "      <td>No</td>\n",
       "    </tr>\n",
       "    <tr>\n",
       "      <th>24977</th>\n",
       "      <td>683</td>\n",
       "      <td>2019-02-25 17:32:20.0270</td>\n",
       "      <td>2019-02-25 17:43:43.1240</td>\n",
       "      <td>24.0</td>\n",
       "      <td>Spear St at Folsom St</td>\n",
       "      <td>37.789677</td>\n",
       "      <td>-122.390428</td>\n",
       "      <td>92.0</td>\n",
       "      <td>Mission Bay Kids Park</td>\n",
       "      <td>37.772301</td>\n",
       "      <td>-122.393028</td>\n",
       "      <td>5228</td>\n",
       "      <td>Subscriber</td>\n",
       "      <td>1981.0</td>\n",
       "      <td>Male</td>\n",
       "      <td>No</td>\n",
       "    </tr>\n",
       "    <tr>\n",
       "      <th>143040</th>\n",
       "      <td>472</td>\n",
       "      <td>2019-02-07 16:20:23.3090</td>\n",
       "      <td>2019-02-07 16:28:15.3640</td>\n",
       "      <td>22.0</td>\n",
       "      <td>Howard St at Beale St</td>\n",
       "      <td>37.789756</td>\n",
       "      <td>-122.394643</td>\n",
       "      <td>67.0</td>\n",
       "      <td>San Francisco Caltrain Station 2  (Townsend St...</td>\n",
       "      <td>37.776639</td>\n",
       "      <td>-122.395526</td>\n",
       "      <td>5149</td>\n",
       "      <td>Subscriber</td>\n",
       "      <td>1973.0</td>\n",
       "      <td>Male</td>\n",
       "      <td>No</td>\n",
       "    </tr>\n",
       "    <tr>\n",
       "      <th>133973</th>\n",
       "      <td>759</td>\n",
       "      <td>2019-02-08 17:59:30.2330</td>\n",
       "      <td>2019-02-08 18:12:09.4100</td>\n",
       "      <td>81.0</td>\n",
       "      <td>Berry St at 4th St</td>\n",
       "      <td>37.775880</td>\n",
       "      <td>-122.393170</td>\n",
       "      <td>114.0</td>\n",
       "      <td>Rhode Island St at 17th St</td>\n",
       "      <td>37.764478</td>\n",
       "      <td>-122.402570</td>\n",
       "      <td>1777</td>\n",
       "      <td>Subscriber</td>\n",
       "      <td>1966.0</td>\n",
       "      <td>Female</td>\n",
       "      <td>No</td>\n",
       "    </tr>\n",
       "    <tr>\n",
       "      <th>4725</th>\n",
       "      <td>414</td>\n",
       "      <td>2019-02-28 15:09:19.6780</td>\n",
       "      <td>2019-02-28 15:16:14.3920</td>\n",
       "      <td>239.0</td>\n",
       "      <td>Bancroft Way at Telegraph Ave</td>\n",
       "      <td>37.868813</td>\n",
       "      <td>-122.258764</td>\n",
       "      <td>267.0</td>\n",
       "      <td>Derby St at College Ave</td>\n",
       "      <td>37.861804</td>\n",
       "      <td>-122.253569</td>\n",
       "      <td>4543</td>\n",
       "      <td>Subscriber</td>\n",
       "      <td>1997.0</td>\n",
       "      <td>Male</td>\n",
       "      <td>No</td>\n",
       "    </tr>\n",
       "    <tr>\n",
       "      <th>143296</th>\n",
       "      <td>335</td>\n",
       "      <td>2019-02-07 15:53:18.3410</td>\n",
       "      <td>2019-02-07 15:58:53.8700</td>\n",
       "      <td>243.0</td>\n",
       "      <td>Bancroft Way at College Ave</td>\n",
       "      <td>37.869360</td>\n",
       "      <td>-122.254337</td>\n",
       "      <td>266.0</td>\n",
       "      <td>Parker St at Fulton St</td>\n",
       "      <td>37.862464</td>\n",
       "      <td>-122.264791</td>\n",
       "      <td>1611</td>\n",
       "      <td>Subscriber</td>\n",
       "      <td>1989.0</td>\n",
       "      <td>Female</td>\n",
       "      <td>No</td>\n",
       "    </tr>\n",
       "    <tr>\n",
       "      <th>119247</th>\n",
       "      <td>241</td>\n",
       "      <td>2019-02-11 18:04:59.1480</td>\n",
       "      <td>2019-02-11 18:09:00.8360</td>\n",
       "      <td>141.0</td>\n",
       "      <td>Valencia St at Cesar Chavez St</td>\n",
       "      <td>37.747998</td>\n",
       "      <td>-122.420219</td>\n",
       "      <td>133.0</td>\n",
       "      <td>Valencia St at 22nd St</td>\n",
       "      <td>37.755213</td>\n",
       "      <td>-122.420975</td>\n",
       "      <td>2061</td>\n",
       "      <td>Subscriber</td>\n",
       "      <td>NaN</td>\n",
       "      <td>NaN</td>\n",
       "      <td>No</td>\n",
       "    </tr>\n",
       "    <tr>\n",
       "      <th>57481</th>\n",
       "      <td>601</td>\n",
       "      <td>2019-02-21 08:13:33.1620</td>\n",
       "      <td>2019-02-21 08:23:34.7650</td>\n",
       "      <td>59.0</td>\n",
       "      <td>S Van Ness Ave at Market St</td>\n",
       "      <td>37.774814</td>\n",
       "      <td>-122.418954</td>\n",
       "      <td>36.0</td>\n",
       "      <td>Folsom St at 3rd St</td>\n",
       "      <td>37.783830</td>\n",
       "      <td>-122.398870</td>\n",
       "      <td>5029</td>\n",
       "      <td>Subscriber</td>\n",
       "      <td>NaN</td>\n",
       "      <td>NaN</td>\n",
       "      <td>No</td>\n",
       "    </tr>\n",
       "    <tr>\n",
       "      <th>106023</th>\n",
       "      <td>668</td>\n",
       "      <td>2019-02-13 19:14:24.4370</td>\n",
       "      <td>2019-02-13 19:25:32.4950</td>\n",
       "      <td>129.0</td>\n",
       "      <td>Harrison St at 20th St</td>\n",
       "      <td>37.758862</td>\n",
       "      <td>-122.412544</td>\n",
       "      <td>44.0</td>\n",
       "      <td>Civic Center/UN Plaza BART Station (Market St ...</td>\n",
       "      <td>37.781074</td>\n",
       "      <td>-122.411738</td>\n",
       "      <td>4671</td>\n",
       "      <td>Subscriber</td>\n",
       "      <td>NaN</td>\n",
       "      <td>NaN</td>\n",
       "      <td>No</td>\n",
       "    </tr>\n",
       "    <tr>\n",
       "      <th>84337</th>\n",
       "      <td>1056</td>\n",
       "      <td>2019-02-17 17:51:39.5430</td>\n",
       "      <td>2019-02-17 18:09:16.0240</td>\n",
       "      <td>97.0</td>\n",
       "      <td>14th St at Mission St</td>\n",
       "      <td>37.768265</td>\n",
       "      <td>-122.420110</td>\n",
       "      <td>119.0</td>\n",
       "      <td>18th St at Noe St</td>\n",
       "      <td>37.761047</td>\n",
       "      <td>-122.432642</td>\n",
       "      <td>6220</td>\n",
       "      <td>Customer</td>\n",
       "      <td>1991.0</td>\n",
       "      <td>Male</td>\n",
       "      <td>No</td>\n",
       "    </tr>\n",
       "  </tbody>\n",
       "</table>\n",
       "</div>"
      ],
      "text/plain": [
       "        duration_sec                start_time                  end_time  \\\n",
       "80612            743  2019-02-18 15:09:17.7510  2019-02-18 15:21:41.2220   \n",
       "24977            683  2019-02-25 17:32:20.0270  2019-02-25 17:43:43.1240   \n",
       "143040           472  2019-02-07 16:20:23.3090  2019-02-07 16:28:15.3640   \n",
       "133973           759  2019-02-08 17:59:30.2330  2019-02-08 18:12:09.4100   \n",
       "4725             414  2019-02-28 15:09:19.6780  2019-02-28 15:16:14.3920   \n",
       "143296           335  2019-02-07 15:53:18.3410  2019-02-07 15:58:53.8700   \n",
       "119247           241  2019-02-11 18:04:59.1480  2019-02-11 18:09:00.8360   \n",
       "57481            601  2019-02-21 08:13:33.1620  2019-02-21 08:23:34.7650   \n",
       "106023           668  2019-02-13 19:14:24.4370  2019-02-13 19:25:32.4950   \n",
       "84337           1056  2019-02-17 17:51:39.5430  2019-02-17 18:09:16.0240   \n",
       "\n",
       "        start_station_id              start_station_name  \\\n",
       "80612               10.0      Washington St at Kearny St   \n",
       "24977               24.0           Spear St at Folsom St   \n",
       "143040              22.0           Howard St at Beale St   \n",
       "133973              81.0              Berry St at 4th St   \n",
       "4725               239.0   Bancroft Way at Telegraph Ave   \n",
       "143296             243.0     Bancroft Way at College Ave   \n",
       "119247             141.0  Valencia St at Cesar Chavez St   \n",
       "57481               59.0     S Van Ness Ave at Market St   \n",
       "106023             129.0          Harrison St at 20th St   \n",
       "84337               97.0           14th St at Mission St   \n",
       "\n",
       "        start_station_latitude  start_station_longitude  end_station_id  \\\n",
       "80612                37.795393              -122.404770           368.0   \n",
       "24977                37.789677              -122.390428            92.0   \n",
       "143040               37.789756              -122.394643            67.0   \n",
       "133973               37.775880              -122.393170           114.0   \n",
       "4725                 37.868813              -122.258764           267.0   \n",
       "143296               37.869360              -122.254337           266.0   \n",
       "119247               37.747998              -122.420219           133.0   \n",
       "57481                37.774814              -122.418954            36.0   \n",
       "106023               37.758862              -122.412544            44.0   \n",
       "84337                37.768265              -122.420110           119.0   \n",
       "\n",
       "                                         end_station_name  \\\n",
       "80612                                Myrtle St at Polk St   \n",
       "24977                               Mission Bay Kids Park   \n",
       "143040  San Francisco Caltrain Station 2  (Townsend St...   \n",
       "133973                         Rhode Island St at 17th St   \n",
       "4725                              Derby St at College Ave   \n",
       "143296                             Parker St at Fulton St   \n",
       "119247                             Valencia St at 22nd St   \n",
       "57481                                 Folsom St at 3rd St   \n",
       "106023  Civic Center/UN Plaza BART Station (Market St ...   \n",
       "84337                                   18th St at Noe St   \n",
       "\n",
       "        end_station_latitude  end_station_longitude  bike_id   user_type  \\\n",
       "80612              37.785434            -122.419622     5480  Subscriber   \n",
       "24977              37.772301            -122.393028     5228  Subscriber   \n",
       "143040             37.776639            -122.395526     5149  Subscriber   \n",
       "133973             37.764478            -122.402570     1777  Subscriber   \n",
       "4725               37.861804            -122.253569     4543  Subscriber   \n",
       "143296             37.862464            -122.264791     1611  Subscriber   \n",
       "119247             37.755213            -122.420975     2061  Subscriber   \n",
       "57481              37.783830            -122.398870     5029  Subscriber   \n",
       "106023             37.781074            -122.411738     4671  Subscriber   \n",
       "84337              37.761047            -122.432642     6220    Customer   \n",
       "\n",
       "        member_birth_year member_gender bike_share_for_all_trip  \n",
       "80612              1998.0          Male                      No  \n",
       "24977              1981.0          Male                      No  \n",
       "143040             1973.0          Male                      No  \n",
       "133973             1966.0        Female                      No  \n",
       "4725               1997.0          Male                      No  \n",
       "143296             1989.0        Female                      No  \n",
       "119247                NaN           NaN                      No  \n",
       "57481                 NaN           NaN                      No  \n",
       "106023                NaN           NaN                      No  \n",
       "84337              1991.0          Male                      No  "
      ]
     },
     "execution_count": 5,
     "metadata": {},
     "output_type": "execute_result"
    }
   ],
   "source": [
    "df.sample(10)"
   ]
  },
  {
   "cell_type": "code",
   "execution_count": 6,
   "metadata": {},
   "outputs": [
    {
     "data": {
      "text/html": [
       "<div>\n",
       "<style scoped>\n",
       "    .dataframe tbody tr th:only-of-type {\n",
       "        vertical-align: middle;\n",
       "    }\n",
       "\n",
       "    .dataframe tbody tr th {\n",
       "        vertical-align: top;\n",
       "    }\n",
       "\n",
       "    .dataframe thead th {\n",
       "        text-align: right;\n",
       "    }\n",
       "</style>\n",
       "<table border=\"1\" class=\"dataframe\">\n",
       "  <thead>\n",
       "    <tr style=\"text-align: right;\">\n",
       "      <th></th>\n",
       "      <th>duration_sec</th>\n",
       "      <th>start_time</th>\n",
       "      <th>end_time</th>\n",
       "      <th>start_station_id</th>\n",
       "      <th>start_station_name</th>\n",
       "      <th>start_station_latitude</th>\n",
       "      <th>start_station_longitude</th>\n",
       "      <th>end_station_id</th>\n",
       "      <th>end_station_name</th>\n",
       "      <th>end_station_latitude</th>\n",
       "      <th>end_station_longitude</th>\n",
       "      <th>bike_id</th>\n",
       "      <th>user_type</th>\n",
       "      <th>member_birth_year</th>\n",
       "      <th>member_gender</th>\n",
       "      <th>bike_share_for_all_trip</th>\n",
       "    </tr>\n",
       "  </thead>\n",
       "  <tbody>\n",
       "    <tr>\n",
       "      <th>183407</th>\n",
       "      <td>480</td>\n",
       "      <td>2019-02-01 00:04:49.7240</td>\n",
       "      <td>2019-02-01 00:12:50.0340</td>\n",
       "      <td>27.0</td>\n",
       "      <td>Beale St at Harrison St</td>\n",
       "      <td>37.788059</td>\n",
       "      <td>-122.391865</td>\n",
       "      <td>324.0</td>\n",
       "      <td>Union Square (Powell St at Post St)</td>\n",
       "      <td>37.788300</td>\n",
       "      <td>-122.408531</td>\n",
       "      <td>4832</td>\n",
       "      <td>Subscriber</td>\n",
       "      <td>1996.0</td>\n",
       "      <td>Male</td>\n",
       "      <td>No</td>\n",
       "    </tr>\n",
       "    <tr>\n",
       "      <th>183408</th>\n",
       "      <td>313</td>\n",
       "      <td>2019-02-01 00:05:34.7440</td>\n",
       "      <td>2019-02-01 00:10:48.5020</td>\n",
       "      <td>21.0</td>\n",
       "      <td>Montgomery St BART Station (Market St at 2nd St)</td>\n",
       "      <td>37.789625</td>\n",
       "      <td>-122.400811</td>\n",
       "      <td>66.0</td>\n",
       "      <td>3rd St at Townsend St</td>\n",
       "      <td>37.778742</td>\n",
       "      <td>-122.392741</td>\n",
       "      <td>4960</td>\n",
       "      <td>Subscriber</td>\n",
       "      <td>1984.0</td>\n",
       "      <td>Male</td>\n",
       "      <td>No</td>\n",
       "    </tr>\n",
       "    <tr>\n",
       "      <th>183409</th>\n",
       "      <td>141</td>\n",
       "      <td>2019-02-01 00:06:05.5490</td>\n",
       "      <td>2019-02-01 00:08:27.2200</td>\n",
       "      <td>278.0</td>\n",
       "      <td>The Alameda at Bush St</td>\n",
       "      <td>37.331932</td>\n",
       "      <td>-121.904888</td>\n",
       "      <td>277.0</td>\n",
       "      <td>Morrison Ave at Julian St</td>\n",
       "      <td>37.333658</td>\n",
       "      <td>-121.908586</td>\n",
       "      <td>3824</td>\n",
       "      <td>Subscriber</td>\n",
       "      <td>1990.0</td>\n",
       "      <td>Male</td>\n",
       "      <td>Yes</td>\n",
       "    </tr>\n",
       "    <tr>\n",
       "      <th>183410</th>\n",
       "      <td>139</td>\n",
       "      <td>2019-02-01 00:05:34.3600</td>\n",
       "      <td>2019-02-01 00:07:54.2870</td>\n",
       "      <td>220.0</td>\n",
       "      <td>San Pablo Ave at MLK Jr Way</td>\n",
       "      <td>37.811351</td>\n",
       "      <td>-122.273422</td>\n",
       "      <td>216.0</td>\n",
       "      <td>San Pablo Ave at 27th St</td>\n",
       "      <td>37.817827</td>\n",
       "      <td>-122.275698</td>\n",
       "      <td>5095</td>\n",
       "      <td>Subscriber</td>\n",
       "      <td>1988.0</td>\n",
       "      <td>Male</td>\n",
       "      <td>No</td>\n",
       "    </tr>\n",
       "    <tr>\n",
       "      <th>183411</th>\n",
       "      <td>271</td>\n",
       "      <td>2019-02-01 00:00:20.6360</td>\n",
       "      <td>2019-02-01 00:04:52.0580</td>\n",
       "      <td>24.0</td>\n",
       "      <td>Spear St at Folsom St</td>\n",
       "      <td>37.789677</td>\n",
       "      <td>-122.390428</td>\n",
       "      <td>37.0</td>\n",
       "      <td>2nd St at Folsom St</td>\n",
       "      <td>37.785000</td>\n",
       "      <td>-122.395936</td>\n",
       "      <td>1057</td>\n",
       "      <td>Subscriber</td>\n",
       "      <td>1989.0</td>\n",
       "      <td>Male</td>\n",
       "      <td>No</td>\n",
       "    </tr>\n",
       "  </tbody>\n",
       "</table>\n",
       "</div>"
      ],
      "text/plain": [
       "        duration_sec                start_time                  end_time  \\\n",
       "183407           480  2019-02-01 00:04:49.7240  2019-02-01 00:12:50.0340   \n",
       "183408           313  2019-02-01 00:05:34.7440  2019-02-01 00:10:48.5020   \n",
       "183409           141  2019-02-01 00:06:05.5490  2019-02-01 00:08:27.2200   \n",
       "183410           139  2019-02-01 00:05:34.3600  2019-02-01 00:07:54.2870   \n",
       "183411           271  2019-02-01 00:00:20.6360  2019-02-01 00:04:52.0580   \n",
       "\n",
       "        start_station_id                                start_station_name  \\\n",
       "183407              27.0                           Beale St at Harrison St   \n",
       "183408              21.0  Montgomery St BART Station (Market St at 2nd St)   \n",
       "183409             278.0                            The Alameda at Bush St   \n",
       "183410             220.0                       San Pablo Ave at MLK Jr Way   \n",
       "183411              24.0                             Spear St at Folsom St   \n",
       "\n",
       "        start_station_latitude  start_station_longitude  end_station_id  \\\n",
       "183407               37.788059              -122.391865           324.0   \n",
       "183408               37.789625              -122.400811            66.0   \n",
       "183409               37.331932              -121.904888           277.0   \n",
       "183410               37.811351              -122.273422           216.0   \n",
       "183411               37.789677              -122.390428            37.0   \n",
       "\n",
       "                           end_station_name  end_station_latitude  \\\n",
       "183407  Union Square (Powell St at Post St)             37.788300   \n",
       "183408                3rd St at Townsend St             37.778742   \n",
       "183409            Morrison Ave at Julian St             37.333658   \n",
       "183410             San Pablo Ave at 27th St             37.817827   \n",
       "183411                  2nd St at Folsom St             37.785000   \n",
       "\n",
       "        end_station_longitude  bike_id   user_type  member_birth_year  \\\n",
       "183407            -122.408531     4832  Subscriber             1996.0   \n",
       "183408            -122.392741     4960  Subscriber             1984.0   \n",
       "183409            -121.908586     3824  Subscriber             1990.0   \n",
       "183410            -122.275698     5095  Subscriber             1988.0   \n",
       "183411            -122.395936     1057  Subscriber             1989.0   \n",
       "\n",
       "       member_gender bike_share_for_all_trip  \n",
       "183407          Male                      No  \n",
       "183408          Male                      No  \n",
       "183409          Male                     Yes  \n",
       "183410          Male                      No  \n",
       "183411          Male                      No  "
      ]
     },
     "execution_count": 6,
     "metadata": {},
     "output_type": "execute_result"
    }
   ],
   "source": [
    "df.tail()"
   ]
  },
  {
   "cell_type": "code",
   "execution_count": 7,
   "metadata": {},
   "outputs": [
    {
     "name": "stdout",
     "output_type": "stream",
     "text": [
      "<class 'pandas.core.frame.DataFrame'>\n",
      "RangeIndex: 183412 entries, 0 to 183411\n",
      "Data columns (total 16 columns):\n",
      "duration_sec               183412 non-null int64\n",
      "start_time                 183412 non-null object\n",
      "end_time                   183412 non-null object\n",
      "start_station_id           183215 non-null float64\n",
      "start_station_name         183215 non-null object\n",
      "start_station_latitude     183412 non-null float64\n",
      "start_station_longitude    183412 non-null float64\n",
      "end_station_id             183215 non-null float64\n",
      "end_station_name           183215 non-null object\n",
      "end_station_latitude       183412 non-null float64\n",
      "end_station_longitude      183412 non-null float64\n",
      "bike_id                    183412 non-null int64\n",
      "user_type                  183412 non-null object\n",
      "member_birth_year          175147 non-null float64\n",
      "member_gender              175147 non-null object\n",
      "bike_share_for_all_trip    183412 non-null object\n",
      "dtypes: float64(7), int64(2), object(7)\n",
      "memory usage: 22.4+ MB\n"
     ]
    }
   ],
   "source": [
    "df.info()"
   ]
  },
  {
   "cell_type": "code",
   "execution_count": 8,
   "metadata": {},
   "outputs": [
    {
     "data": {
      "text/html": [
       "<div>\n",
       "<style scoped>\n",
       "    .dataframe tbody tr th:only-of-type {\n",
       "        vertical-align: middle;\n",
       "    }\n",
       "\n",
       "    .dataframe tbody tr th {\n",
       "        vertical-align: top;\n",
       "    }\n",
       "\n",
       "    .dataframe thead th {\n",
       "        text-align: right;\n",
       "    }\n",
       "</style>\n",
       "<table border=\"1\" class=\"dataframe\">\n",
       "  <thead>\n",
       "    <tr style=\"text-align: right;\">\n",
       "      <th></th>\n",
       "      <th>duration_sec</th>\n",
       "      <th>start_station_id</th>\n",
       "      <th>start_station_latitude</th>\n",
       "      <th>start_station_longitude</th>\n",
       "      <th>end_station_id</th>\n",
       "      <th>end_station_latitude</th>\n",
       "      <th>end_station_longitude</th>\n",
       "      <th>bike_id</th>\n",
       "      <th>member_birth_year</th>\n",
       "    </tr>\n",
       "  </thead>\n",
       "  <tbody>\n",
       "    <tr>\n",
       "      <th>count</th>\n",
       "      <td>183412.000000</td>\n",
       "      <td>183215.000000</td>\n",
       "      <td>183412.000000</td>\n",
       "      <td>183412.000000</td>\n",
       "      <td>183215.000000</td>\n",
       "      <td>183412.000000</td>\n",
       "      <td>183412.000000</td>\n",
       "      <td>183412.000000</td>\n",
       "      <td>175147.000000</td>\n",
       "    </tr>\n",
       "    <tr>\n",
       "      <th>mean</th>\n",
       "      <td>726.078435</td>\n",
       "      <td>138.590427</td>\n",
       "      <td>37.771223</td>\n",
       "      <td>-122.352664</td>\n",
       "      <td>136.249123</td>\n",
       "      <td>37.771427</td>\n",
       "      <td>-122.352250</td>\n",
       "      <td>4472.906375</td>\n",
       "      <td>1984.806437</td>\n",
       "    </tr>\n",
       "    <tr>\n",
       "      <th>std</th>\n",
       "      <td>1794.389780</td>\n",
       "      <td>111.778864</td>\n",
       "      <td>0.099581</td>\n",
       "      <td>0.117097</td>\n",
       "      <td>111.515131</td>\n",
       "      <td>0.099490</td>\n",
       "      <td>0.116673</td>\n",
       "      <td>1664.383394</td>\n",
       "      <td>10.116689</td>\n",
       "    </tr>\n",
       "    <tr>\n",
       "      <th>min</th>\n",
       "      <td>61.000000</td>\n",
       "      <td>3.000000</td>\n",
       "      <td>37.317298</td>\n",
       "      <td>-122.453704</td>\n",
       "      <td>3.000000</td>\n",
       "      <td>37.317298</td>\n",
       "      <td>-122.453704</td>\n",
       "      <td>11.000000</td>\n",
       "      <td>1878.000000</td>\n",
       "    </tr>\n",
       "    <tr>\n",
       "      <th>25%</th>\n",
       "      <td>325.000000</td>\n",
       "      <td>47.000000</td>\n",
       "      <td>37.770083</td>\n",
       "      <td>-122.412408</td>\n",
       "      <td>44.000000</td>\n",
       "      <td>37.770407</td>\n",
       "      <td>-122.411726</td>\n",
       "      <td>3777.000000</td>\n",
       "      <td>1980.000000</td>\n",
       "    </tr>\n",
       "    <tr>\n",
       "      <th>50%</th>\n",
       "      <td>514.000000</td>\n",
       "      <td>104.000000</td>\n",
       "      <td>37.780760</td>\n",
       "      <td>-122.398285</td>\n",
       "      <td>100.000000</td>\n",
       "      <td>37.781010</td>\n",
       "      <td>-122.398279</td>\n",
       "      <td>4958.000000</td>\n",
       "      <td>1987.000000</td>\n",
       "    </tr>\n",
       "    <tr>\n",
       "      <th>75%</th>\n",
       "      <td>796.000000</td>\n",
       "      <td>239.000000</td>\n",
       "      <td>37.797280</td>\n",
       "      <td>-122.286533</td>\n",
       "      <td>235.000000</td>\n",
       "      <td>37.797320</td>\n",
       "      <td>-122.288045</td>\n",
       "      <td>5502.000000</td>\n",
       "      <td>1992.000000</td>\n",
       "    </tr>\n",
       "    <tr>\n",
       "      <th>max</th>\n",
       "      <td>85444.000000</td>\n",
       "      <td>398.000000</td>\n",
       "      <td>37.880222</td>\n",
       "      <td>-121.874119</td>\n",
       "      <td>398.000000</td>\n",
       "      <td>37.880222</td>\n",
       "      <td>-121.874119</td>\n",
       "      <td>6645.000000</td>\n",
       "      <td>2001.000000</td>\n",
       "    </tr>\n",
       "  </tbody>\n",
       "</table>\n",
       "</div>"
      ],
      "text/plain": [
       "        duration_sec  start_station_id  start_station_latitude  \\\n",
       "count  183412.000000     183215.000000           183412.000000   \n",
       "mean      726.078435        138.590427               37.771223   \n",
       "std      1794.389780        111.778864                0.099581   \n",
       "min        61.000000          3.000000               37.317298   \n",
       "25%       325.000000         47.000000               37.770083   \n",
       "50%       514.000000        104.000000               37.780760   \n",
       "75%       796.000000        239.000000               37.797280   \n",
       "max     85444.000000        398.000000               37.880222   \n",
       "\n",
       "       start_station_longitude  end_station_id  end_station_latitude  \\\n",
       "count            183412.000000   183215.000000         183412.000000   \n",
       "mean               -122.352664      136.249123             37.771427   \n",
       "std                   0.117097      111.515131              0.099490   \n",
       "min                -122.453704        3.000000             37.317298   \n",
       "25%                -122.412408       44.000000             37.770407   \n",
       "50%                -122.398285      100.000000             37.781010   \n",
       "75%                -122.286533      235.000000             37.797320   \n",
       "max                -121.874119      398.000000             37.880222   \n",
       "\n",
       "       end_station_longitude        bike_id  member_birth_year  \n",
       "count          183412.000000  183412.000000      175147.000000  \n",
       "mean             -122.352250    4472.906375        1984.806437  \n",
       "std                 0.116673    1664.383394          10.116689  \n",
       "min              -122.453704      11.000000        1878.000000  \n",
       "25%              -122.411726    3777.000000        1980.000000  \n",
       "50%              -122.398279    4958.000000        1987.000000  \n",
       "75%              -122.288045    5502.000000        1992.000000  \n",
       "max              -121.874119    6645.000000        2001.000000  "
      ]
     },
     "execution_count": 8,
     "metadata": {},
     "output_type": "execute_result"
    }
   ],
   "source": [
    "df.describe()"
   ]
  },
  {
   "cell_type": "code",
   "execution_count": 9,
   "metadata": {},
   "outputs": [
    {
     "data": {
      "text/plain": [
       "duration_sec                  0\n",
       "start_time                    0\n",
       "end_time                      0\n",
       "start_station_id            197\n",
       "start_station_name          197\n",
       "start_station_latitude        0\n",
       "start_station_longitude       0\n",
       "end_station_id              197\n",
       "end_station_name            197\n",
       "end_station_latitude          0\n",
       "end_station_longitude         0\n",
       "bike_id                       0\n",
       "user_type                     0\n",
       "member_birth_year          8265\n",
       "member_gender              8265\n",
       "bike_share_for_all_trip       0\n",
       "dtype: int64"
      ]
     },
     "execution_count": 9,
     "metadata": {},
     "output_type": "execute_result"
    }
   ],
   "source": [
    "df.isnull().sum()"
   ]
  },
  {
   "cell_type": "markdown",
   "metadata": {},
   "source": [
    "#### notes \n",
    "> * there are some unuseful columns :(end_time ,start_station_latitude ,start_station_longitude,end_station_latitude,end_station_longitude)\n",
    "* some columns has null values : (start_station_id ,start_station_name, end_station_id ,end_station_name,member_birth_year, member_gender) \n",
    "* member_birth_year is float but it should be int\n",
    "* start_station_id ,end_station_id is float but it better be int\n",
    "* start_time is object but it should be datetime\n"
   ]
  },
  {
   "cell_type": "code",
   "execution_count": 10,
   "metadata": {},
   "outputs": [
    {
     "data": {
      "text/plain": [
       "0"
      ]
     },
     "execution_count": 10,
     "metadata": {},
     "output_type": "execute_result"
    }
   ],
   "source": [
    "sum(df.duplicated())"
   ]
  },
  {
   "cell_type": "code",
   "execution_count": 11,
   "metadata": {},
   "outputs": [
    {
     "data": {
      "text/plain": [
       "duration_sec                 4752\n",
       "start_time                 183401\n",
       "end_time                   183397\n",
       "start_station_id              329\n",
       "start_station_name            329\n",
       "start_station_latitude        334\n",
       "start_station_longitude       335\n",
       "end_station_id                329\n",
       "end_station_name              329\n",
       "end_station_latitude          335\n",
       "end_station_longitude         335\n",
       "bike_id                      4646\n",
       "user_type                       2\n",
       "member_birth_year              75\n",
       "member_gender                   3\n",
       "bike_share_for_all_trip         2\n",
       "dtype: int64"
      ]
     },
     "execution_count": 11,
     "metadata": {},
     "output_type": "execute_result"
    }
   ],
   "source": [
    "df.nunique()"
   ]
  },
  {
   "cell_type": "code",
   "execution_count": 12,
   "metadata": {},
   "outputs": [
    {
     "data": {
      "text/plain": [
       "Male      130651\n",
       "Female     40844\n",
       "Other       3652\n",
       "Name: member_gender, dtype: int64"
      ]
     },
     "execution_count": 12,
     "metadata": {},
     "output_type": "execute_result"
    }
   ],
   "source": [
    "df.member_gender.value_counts()"
   ]
  },
  {
   "cell_type": "code",
   "execution_count": 13,
   "metadata": {},
   "outputs": [
    {
     "data": {
      "text/plain": [
       "Subscriber    163544\n",
       "Customer       19868\n",
       "Name: user_type, dtype: int64"
      ]
     },
     "execution_count": 13,
     "metadata": {},
     "output_type": "execute_result"
    }
   ],
   "source": [
    "df.user_type.value_counts()"
   ]
  },
  {
   "cell_type": "code",
   "execution_count": 14,
   "metadata": {},
   "outputs": [
    {
     "data": {
      "text/plain": [
       "1988.0    10236\n",
       "1993.0     9325\n",
       "1989.0     8972\n",
       "1990.0     8658\n",
       "1991.0     8498\n",
       "1992.0     8250\n",
       "1987.0     8018\n",
       "1986.0     7973\n",
       "1994.0     7660\n",
       "1995.0     7423\n",
       "1985.0     7028\n",
       "1984.0     6562\n",
       "1983.0     5954\n",
       "1980.0     5024\n",
       "1982.0     4990\n",
       "1996.0     4640\n",
       "1981.0     4345\n",
       "1979.0     3756\n",
       "1997.0     3481\n",
       "1998.0     3208\n",
       "1978.0     2830\n",
       "1977.0     2725\n",
       "1974.0     2633\n",
       "1999.0     2528\n",
       "1975.0     2503\n",
       "1976.0     2442\n",
       "1973.0     2080\n",
       "1968.0     1928\n",
       "1971.0     1924\n",
       "1972.0     1909\n",
       "          ...  \n",
       "1954.0      301\n",
       "1952.0      189\n",
       "1951.0      180\n",
       "1950.0      178\n",
       "1953.0      158\n",
       "1947.0      135\n",
       "1955.0      134\n",
       "1945.0      105\n",
       "1949.0       99\n",
       "1931.0       89\n",
       "1900.0       53\n",
       "1948.0       51\n",
       "2001.0       34\n",
       "1943.0       30\n",
       "1942.0       21\n",
       "1933.0       20\n",
       "1946.0       19\n",
       "1902.0       11\n",
       "1939.0       11\n",
       "1941.0        9\n",
       "1901.0        6\n",
       "1938.0        3\n",
       "1920.0        3\n",
       "1934.0        2\n",
       "1944.0        2\n",
       "1930.0        1\n",
       "1910.0        1\n",
       "1927.0        1\n",
       "1928.0        1\n",
       "1878.0        1\n",
       "Name: member_birth_year, Length: 75, dtype: int64"
      ]
     },
     "execution_count": 14,
     "metadata": {},
     "output_type": "execute_result"
    }
   ],
   "source": [
    "df.member_birth_year.value_counts()"
   ]
  },
  {
   "cell_type": "code",
   "execution_count": 15,
   "metadata": {},
   "outputs": [
    {
     "data": {
      "text/plain": [
       "(72, 16)"
      ]
     },
     "execution_count": 15,
     "metadata": {},
     "output_type": "execute_result"
    }
   ],
   "source": [
    "df.query(\"member_birth_year < 1920\").shape"
   ]
  },
  {
   "cell_type": "markdown",
   "metadata": {},
   "source": [
    "#### note\n",
    "about 72 wrong values in birth year !"
   ]
  },
  {
   "cell_type": "code",
   "execution_count": 16,
   "metadata": {},
   "outputs": [
    {
     "data": {
      "text/plain": [
       "No     166053\n",
       "Yes     17359\n",
       "Name: bike_share_for_all_trip, dtype: int64"
      ]
     },
     "execution_count": 16,
     "metadata": {},
     "output_type": "execute_result"
    }
   ],
   "source": [
    "df.bike_share_for_all_trip.value_counts()"
   ]
  },
  {
   "cell_type": "markdown",
   "metadata": {},
   "source": [
    "## Data Cleaning"
   ]
  },
  {
   "cell_type": "markdown",
   "metadata": {},
   "source": [
    "#### define\n",
    "delete unuseful columns from data using drop function"
   ]
  },
  {
   "cell_type": "markdown",
   "metadata": {},
   "source": [
    "#### code"
   ]
  },
  {
   "cell_type": "code",
   "execution_count": 17,
   "metadata": {},
   "outputs": [],
   "source": [
    "df.drop(columns= ['end_time','start_station_latitude','start_station_longitude',\n",
    "                  'end_station_latitude','end_station_longitude'],inplace =True )"
   ]
  },
  {
   "cell_type": "markdown",
   "metadata": {},
   "source": [
    "#### test"
   ]
  },
  {
   "cell_type": "code",
   "execution_count": 18,
   "metadata": {},
   "outputs": [
    {
     "name": "stdout",
     "output_type": "stream",
     "text": [
      "<class 'pandas.core.frame.DataFrame'>\n",
      "RangeIndex: 183412 entries, 0 to 183411\n",
      "Data columns (total 11 columns):\n",
      "duration_sec               183412 non-null int64\n",
      "start_time                 183412 non-null object\n",
      "start_station_id           183215 non-null float64\n",
      "start_station_name         183215 non-null object\n",
      "end_station_id             183215 non-null float64\n",
      "end_station_name           183215 non-null object\n",
      "bike_id                    183412 non-null int64\n",
      "user_type                  183412 non-null object\n",
      "member_birth_year          175147 non-null float64\n",
      "member_gender              175147 non-null object\n",
      "bike_share_for_all_trip    183412 non-null object\n",
      "dtypes: float64(3), int64(2), object(6)\n",
      "memory usage: 15.4+ MB\n"
     ]
    }
   ],
   "source": [
    "df.info()"
   ]
  },
  {
   "cell_type": "markdown",
   "metadata": {},
   "source": [
    "#### define\n",
    "drop null values in all columns using dropna function"
   ]
  },
  {
   "cell_type": "markdown",
   "metadata": {},
   "source": [
    "#### code"
   ]
  },
  {
   "cell_type": "code",
   "execution_count": 19,
   "metadata": {},
   "outputs": [],
   "source": [
    "df.dropna(how='any',axis=0,inplace=True)"
   ]
  },
  {
   "cell_type": "markdown",
   "metadata": {},
   "source": [
    "#### test"
   ]
  },
  {
   "cell_type": "code",
   "execution_count": 20,
   "metadata": {},
   "outputs": [
    {
     "data": {
      "text/plain": [
       "duration_sec               0\n",
       "start_time                 0\n",
       "start_station_id           0\n",
       "start_station_name         0\n",
       "end_station_id             0\n",
       "end_station_name           0\n",
       "bike_id                    0\n",
       "user_type                  0\n",
       "member_birth_year          0\n",
       "member_gender              0\n",
       "bike_share_for_all_trip    0\n",
       "dtype: int64"
      ]
     },
     "execution_count": 20,
     "metadata": {},
     "output_type": "execute_result"
    }
   ],
   "source": [
    "df.isnull().sum()"
   ]
  },
  {
   "cell_type": "markdown",
   "metadata": {},
   "source": [
    "#### define\n",
    "change start_time data type to datetime "
   ]
  },
  {
   "cell_type": "markdown",
   "metadata": {},
   "source": [
    "#### code"
   ]
  },
  {
   "cell_type": "code",
   "execution_count": 21,
   "metadata": {},
   "outputs": [],
   "source": [
    "# convert the Start Time column to datetime\n",
    "df['start_time'] = pd.to_datetime(df['start_time'])\n",
    "\n",
    "# extract day of week from Start Time \n",
    "df['ride_day_of_week'] = df['start_time'].dt.weekday_name"
   ]
  },
  {
   "cell_type": "markdown",
   "metadata": {},
   "source": [
    "#### test"
   ]
  },
  {
   "cell_type": "code",
   "execution_count": 22,
   "metadata": {},
   "outputs": [
    {
     "data": {
      "text/plain": [
       "duration_sec                        int64\n",
       "start_time                 datetime64[ns]\n",
       "start_station_id                  float64\n",
       "start_station_name                 object\n",
       "end_station_id                    float64\n",
       "end_station_name                   object\n",
       "bike_id                             int64\n",
       "user_type                          object\n",
       "member_birth_year                 float64\n",
       "member_gender                      object\n",
       "bike_share_for_all_trip            object\n",
       "ride_day_of_week                   object\n",
       "dtype: object"
      ]
     },
     "execution_count": 22,
     "metadata": {},
     "output_type": "execute_result"
    }
   ],
   "source": [
    "df.dtypes"
   ]
  },
  {
   "cell_type": "markdown",
   "metadata": {},
   "source": [
    "#### define \n",
    "calculate ages of members"
   ]
  },
  {
   "cell_type": "markdown",
   "metadata": {},
   "source": [
    "#### code"
   ]
  },
  {
   "cell_type": "code",
   "execution_count": 23,
   "metadata": {},
   "outputs": [],
   "source": [
    "#calculate age in 2021\n",
    "df['member_age']=2021 - df['member_birth_year']\n",
    "\n",
    "#drop member_birth_year column\n",
    "df.drop(columns='member_birth_year',inplace = True)"
   ]
  },
  {
   "cell_type": "markdown",
   "metadata": {},
   "source": [
    "#### test"
   ]
  },
  {
   "cell_type": "code",
   "execution_count": 24,
   "metadata": {},
   "outputs": [
    {
     "data": {
      "text/plain": [
       "Index(['duration_sec', 'start_time', 'start_station_id', 'start_station_name',\n",
       "       'end_station_id', 'end_station_name', 'bike_id', 'user_type',\n",
       "       'member_gender', 'bike_share_for_all_trip', 'ride_day_of_week',\n",
       "       'member_age'],\n",
       "      dtype='object')"
      ]
     },
     "execution_count": 24,
     "metadata": {},
     "output_type": "execute_result"
    }
   ],
   "source": [
    "df.columns"
   ]
  },
  {
   "cell_type": "markdown",
   "metadata": {},
   "source": [
    "#### define\n",
    "change member_age to int\n",
    "\n",
    "change start_station_id ,end_station_id to int \n"
   ]
  },
  {
   "cell_type": "markdown",
   "metadata": {},
   "source": [
    "#### code"
   ]
  },
  {
   "cell_type": "code",
   "execution_count": 25,
   "metadata": {},
   "outputs": [],
   "source": [
    "df[\"member_age\"] =df[\"member_age\"].astype('int')\n",
    "\n",
    "df[\"start_station_id\"] =df[\"start_station_id\"].astype('int')\n",
    "\n",
    "df[\"end_station_id\"] =df[\"end_station_id\"].astype('int')\n"
   ]
  },
  {
   "cell_type": "markdown",
   "metadata": {},
   "source": [
    "#### test"
   ]
  },
  {
   "cell_type": "code",
   "execution_count": 26,
   "metadata": {},
   "outputs": [
    {
     "name": "stdout",
     "output_type": "stream",
     "text": [
      "<class 'pandas.core.frame.DataFrame'>\n",
      "Int64Index: 174952 entries, 0 to 183411\n",
      "Data columns (total 12 columns):\n",
      "duration_sec               174952 non-null int64\n",
      "start_time                 174952 non-null datetime64[ns]\n",
      "start_station_id           174952 non-null int32\n",
      "start_station_name         174952 non-null object\n",
      "end_station_id             174952 non-null int32\n",
      "end_station_name           174952 non-null object\n",
      "bike_id                    174952 non-null int64\n",
      "user_type                  174952 non-null object\n",
      "member_gender              174952 non-null object\n",
      "bike_share_for_all_trip    174952 non-null object\n",
      "ride_day_of_week           174952 non-null object\n",
      "member_age                 174952 non-null int32\n",
      "dtypes: datetime64[ns](1), int32(3), int64(2), object(6)\n",
      "memory usage: 15.3+ MB\n"
     ]
    }
   ],
   "source": [
    "df.info()"
   ]
  },
  {
   "cell_type": "code",
   "execution_count": 27,
   "metadata": {},
   "outputs": [
    {
     "data": {
      "text/plain": [
       "(20, 143)"
      ]
     },
     "execution_count": 27,
     "metadata": {},
     "output_type": "execute_result"
    }
   ],
   "source": [
    "df.member_age.min(),df.member_age.max()"
   ]
  },
  {
   "cell_type": "markdown",
   "metadata": {},
   "source": [
    "#### note\n",
    "It's not logic that a member age is above 100 and ride a bike!\n",
    "\n",
    "I think it is just a typo when writting the date of birth so i will delete this rows \n"
   ]
  },
  {
   "cell_type": "markdown",
   "metadata": {},
   "source": [
    "#### define\n",
    "delete wrong ages that above 100 years "
   ]
  },
  {
   "cell_type": "code",
   "execution_count": 28,
   "metadata": {},
   "outputs": [],
   "source": [
    "df.query(\"member_age >100\").shape\n",
    "df = df[df['member_age'] < 100] "
   ]
  },
  {
   "cell_type": "markdown",
   "metadata": {},
   "source": [
    "#### test"
   ]
  },
  {
   "cell_type": "code",
   "execution_count": 29,
   "metadata": {},
   "outputs": [
    {
     "data": {
      "text/plain": [
       "94"
      ]
     },
     "execution_count": 29,
     "metadata": {},
     "output_type": "execute_result"
    }
   ],
   "source": [
    "df.member_age.max()"
   ]
  },
  {
   "cell_type": "code",
   "execution_count": 30,
   "metadata": {},
   "outputs": [
    {
     "name": "stdout",
     "output_type": "stream",
     "text": [
      "<class 'pandas.core.frame.DataFrame'>\n",
      "Int64Index: 174877 entries, 0 to 183411\n",
      "Data columns (total 12 columns):\n",
      "duration_sec               174877 non-null int64\n",
      "start_time                 174877 non-null datetime64[ns]\n",
      "start_station_id           174877 non-null int32\n",
      "start_station_name         174877 non-null object\n",
      "end_station_id             174877 non-null int32\n",
      "end_station_name           174877 non-null object\n",
      "bike_id                    174877 non-null int64\n",
      "user_type                  174877 non-null object\n",
      "member_gender              174877 non-null object\n",
      "bike_share_for_all_trip    174877 non-null object\n",
      "ride_day_of_week           174877 non-null object\n",
      "member_age                 174877 non-null int32\n",
      "dtypes: datetime64[ns](1), int32(3), int64(2), object(6)\n",
      "memory usage: 15.3+ MB\n"
     ]
    }
   ],
   "source": [
    "df.info()"
   ]
  },
  {
   "cell_type": "markdown",
   "metadata": {},
   "source": [
    "### What is the structure of your dataset?\n",
    "\n",
    "> it consists of 183412 observation with 16 columns before cleaning\n",
    "\n",
    "### What is/are the main feature(s) of interest in your dataset?\n",
    "\n",
    "> I am looking forward to explain the relation between the duration and gender of members , I also hope to know the most fequent days that members ride bikes\n",
    "\n",
    "### What features in the dataset do you think will help support your investigation into your feature(s) of interest?\n",
    "\n",
    "> start time , member gender and duration"
   ]
  },
  {
   "cell_type": "markdown",
   "metadata": {},
   "source": [
    "## Store Data\n",
    "In this section I stored cleaned data to use it in analysis and visualization"
   ]
  },
  {
   "cell_type": "code",
   "execution_count": 31,
   "metadata": {},
   "outputs": [],
   "source": [
    "df.to_csv('Ford_Go_Bike_cleaned_Data.csv', index = False)"
   ]
  },
  {
   "cell_type": "markdown",
   "metadata": {},
   "source": [
    "## Data Analysis & Visualization"
   ]
  },
  {
   "cell_type": "code",
   "execution_count": 34,
   "metadata": {},
   "outputs": [
    {
     "data": {
      "text/html": [
       "<div>\n",
       "<style scoped>\n",
       "    .dataframe tbody tr th:only-of-type {\n",
       "        vertical-align: middle;\n",
       "    }\n",
       "\n",
       "    .dataframe tbody tr th {\n",
       "        vertical-align: top;\n",
       "    }\n",
       "\n",
       "    .dataframe thead th {\n",
       "        text-align: right;\n",
       "    }\n",
       "</style>\n",
       "<table border=\"1\" class=\"dataframe\">\n",
       "  <thead>\n",
       "    <tr style=\"text-align: right;\">\n",
       "      <th></th>\n",
       "      <th>duration_sec</th>\n",
       "      <th>start_time</th>\n",
       "      <th>start_station_id</th>\n",
       "      <th>start_station_name</th>\n",
       "      <th>end_station_id</th>\n",
       "      <th>end_station_name</th>\n",
       "      <th>bike_id</th>\n",
       "      <th>user_type</th>\n",
       "      <th>member_gender</th>\n",
       "      <th>bike_share_for_all_trip</th>\n",
       "      <th>ride_day_of_week</th>\n",
       "      <th>member_age</th>\n",
       "    </tr>\n",
       "  </thead>\n",
       "  <tbody>\n",
       "    <tr>\n",
       "      <th>0</th>\n",
       "      <td>52185</td>\n",
       "      <td>2019-02-28 17:32:10.145</td>\n",
       "      <td>21</td>\n",
       "      <td>Montgomery St BART Station (Market St at 2nd St)</td>\n",
       "      <td>13</td>\n",
       "      <td>Commercial St at Montgomery St</td>\n",
       "      <td>4902</td>\n",
       "      <td>Customer</td>\n",
       "      <td>Male</td>\n",
       "      <td>No</td>\n",
       "      <td>Thursday</td>\n",
       "      <td>37</td>\n",
       "    </tr>\n",
       "    <tr>\n",
       "      <th>1</th>\n",
       "      <td>61854</td>\n",
       "      <td>2019-02-28 12:13:13.218</td>\n",
       "      <td>86</td>\n",
       "      <td>Market St at Dolores St</td>\n",
       "      <td>3</td>\n",
       "      <td>Powell St BART Station (Market St at 4th St)</td>\n",
       "      <td>5905</td>\n",
       "      <td>Customer</td>\n",
       "      <td>Male</td>\n",
       "      <td>No</td>\n",
       "      <td>Thursday</td>\n",
       "      <td>49</td>\n",
       "    </tr>\n",
       "    <tr>\n",
       "      <th>2</th>\n",
       "      <td>36490</td>\n",
       "      <td>2019-02-28 17:54:26.010</td>\n",
       "      <td>375</td>\n",
       "      <td>Grove St at Masonic Ave</td>\n",
       "      <td>70</td>\n",
       "      <td>Central Ave at Fell St</td>\n",
       "      <td>6638</td>\n",
       "      <td>Subscriber</td>\n",
       "      <td>Other</td>\n",
       "      <td>No</td>\n",
       "      <td>Thursday</td>\n",
       "      <td>32</td>\n",
       "    </tr>\n",
       "    <tr>\n",
       "      <th>3</th>\n",
       "      <td>1585</td>\n",
       "      <td>2019-02-28 23:54:18.549</td>\n",
       "      <td>7</td>\n",
       "      <td>Frank H Ogawa Plaza</td>\n",
       "      <td>222</td>\n",
       "      <td>10th Ave at E 15th St</td>\n",
       "      <td>4898</td>\n",
       "      <td>Subscriber</td>\n",
       "      <td>Male</td>\n",
       "      <td>Yes</td>\n",
       "      <td>Thursday</td>\n",
       "      <td>47</td>\n",
       "    </tr>\n",
       "    <tr>\n",
       "      <th>4</th>\n",
       "      <td>1793</td>\n",
       "      <td>2019-02-28 23:49:58.632</td>\n",
       "      <td>93</td>\n",
       "      <td>4th St at Mission Bay Blvd S</td>\n",
       "      <td>323</td>\n",
       "      <td>Broadway at Kearny</td>\n",
       "      <td>5200</td>\n",
       "      <td>Subscriber</td>\n",
       "      <td>Male</td>\n",
       "      <td>No</td>\n",
       "      <td>Thursday</td>\n",
       "      <td>62</td>\n",
       "    </tr>\n",
       "  </tbody>\n",
       "</table>\n",
       "</div>"
      ],
      "text/plain": [
       "   duration_sec               start_time  start_station_id  \\\n",
       "0         52185  2019-02-28 17:32:10.145                21   \n",
       "1         61854  2019-02-28 12:13:13.218                86   \n",
       "2         36490  2019-02-28 17:54:26.010               375   \n",
       "3          1585  2019-02-28 23:54:18.549                 7   \n",
       "4          1793  2019-02-28 23:49:58.632                93   \n",
       "\n",
       "                                 start_station_name  end_station_id  \\\n",
       "0  Montgomery St BART Station (Market St at 2nd St)              13   \n",
       "1                           Market St at Dolores St               3   \n",
       "2                           Grove St at Masonic Ave              70   \n",
       "3                               Frank H Ogawa Plaza             222   \n",
       "4                      4th St at Mission Bay Blvd S             323   \n",
       "\n",
       "                               end_station_name  bike_id   user_type  \\\n",
       "0                Commercial St at Montgomery St     4902    Customer   \n",
       "1  Powell St BART Station (Market St at 4th St)     5905    Customer   \n",
       "2                        Central Ave at Fell St     6638  Subscriber   \n",
       "3                         10th Ave at E 15th St     4898  Subscriber   \n",
       "4                            Broadway at Kearny     5200  Subscriber   \n",
       "\n",
       "  member_gender bike_share_for_all_trip ride_day_of_week  member_age  \n",
       "0          Male                      No         Thursday          37  \n",
       "1          Male                      No         Thursday          49  \n",
       "2         Other                      No         Thursday          32  \n",
       "3          Male                     Yes         Thursday          47  \n",
       "4          Male                      No         Thursday          62  "
      ]
     },
     "execution_count": 34,
     "metadata": {},
     "output_type": "execute_result"
    }
   ],
   "source": [
    "Ford_Bike_Data =pd.read_csv(\"Ford_Go_Bike_cleaned_Data.csv\")\n",
    "Ford_Bike_Data.head()"
   ]
  },
  {
   "cell_type": "markdown",
   "metadata": {},
   "source": []
  },
  {
   "cell_type": "markdown",
   "metadata": {},
   "source": [
    "### Q1) what is the most frequent member gender?"
   ]
  },
  {
   "cell_type": "code",
   "execution_count": 35,
   "metadata": {},
   "outputs": [
    {
     "data": {
      "image/png": "[encoded data removed]",
      "text/plain": [
       "<Figure size 432x288 with 1 Axes>"
      ]
     },
     "metadata": {
      "needs_background": "light"
     },
     "output_type": "display_data"
    }
   ],
   "source": [
    "#The color_palette() returns the the current palette as a list of RGB tuples.\n",
    "base_color = sb.color_palette()[0]\n",
    "\n",
    "# Count the frequency of each unique value in the member_gender column, and sort it in descending order\n",
    "freq = Ford_Bike_Data['member_gender'].value_counts()\n",
    "\n",
    "# Get the indexes of the Series\n",
    "gen_order = freq.index\n",
    "\n",
    "#plot a count plot using seaborn\n",
    "sb.countplot(data= Ford_Bike_Data ,x=\"member_gender\", color=base_color, order = gen_order);\n",
    "\n",
    "#plot title \n",
    "plt.title(\"count of genders\");"
   ]
  },
  {
   "cell_type": "markdown",
   "metadata": {},
   "source": [
    "**it is obvious that most members are males**"
   ]
  },
  {
   "cell_type": "markdown",
   "metadata": {},
   "source": [
    "### Q2) what is the most and least day of the week in which members ride bikes?"
   ]
  },
  {
   "cell_type": "code",
   "execution_count": 36,
   "metadata": {},
   "outputs": [
    {
     "data": {
      "image/png": "[encoded data removed]",
      "text/plain": [
       "<Figure size 432x288 with 1 Axes>"
      ]
     },
     "metadata": {
      "needs_background": "light"
     },
     "output_type": "display_data"
    }
   ],
   "source": [
    "#The color_palette() returns the the current palette as a list of RGB tuples.\n",
    "base_color = sb.color_palette()[2]\n",
    "\n",
    "#sort days of the week\n",
    "gen_order = ['Saturday', 'Sunday','Monday','Tuesday', 'Wednesday' , 'Thursday' ,'Friday']\n",
    "\n",
    "#plot a count plot using seaborn\n",
    "sb.countplot(data= Ford_Bike_Data ,x=\"ride_day_of_week\", color=base_color,order = gen_order);\n",
    "\n",
    "# Use xticks to rotate the category labels \n",
    "plt.xticks(rotation=20);\n",
    "\n",
    "#plot title \n",
    "plt.title(\"count of riders each day\");"
   ]
  },
  {
   "cell_type": "markdown",
   "metadata": {},
   "source": [
    "**From the above chart it's clear that Thursday is the most day of the weak that members ride bikes, Saturday and Sunday are the least two days that members ride bikes the two days seems to be equal !**"
   ]
  },
  {
   "cell_type": "markdown",
   "metadata": {},
   "source": [
    "### Q3) what is the distribution of user types?"
   ]
  },
  {
   "cell_type": "code",
   "execution_count": 37,
   "metadata": {},
   "outputs": [
    {
     "data": {
      "image/png": "[encoded data removed]",
      "text/plain": [
       "<Figure size 432x288 with 1 Axes>"
      ]
     },
     "metadata": {},
     "output_type": "display_data"
    }
   ],
   "source": [
    "#counting each type\n",
    "user_types_count = Ford_Bike_Data.user_type.value_counts()\n",
    "\n",
    "#plotting pie chart with start angle 90 and plot the sorted counts in a clockwise fashion with percentage \n",
    "plt.pie(user_types_count, labels =user_types_count.index, startangle = 90, counterclock = False, autopct='%1.1f%%',\n",
    "        colors = ['#094780', '#41A4FF'],radius = 1.2);\n",
    "\n",
    "#plot title \n",
    "plt.title(\"user types\");"
   ]
  },
  {
   "cell_type": "markdown",
   "metadata": {},
   "source": [
    "**90.5% of users are subscribers and only 9.5% are customers that's a very big different between the two types !**"
   ]
  },
  {
   "cell_type": "markdown",
   "metadata": {},
   "source": [
    "### Q4) what are the top 10 popular start stations?"
   ]
  },
  {
   "cell_type": "code",
   "execution_count": 38,
   "metadata": {},
   "outputs": [
    {
     "data": {
      "image/png": "[encoded data removed]",
      "text/plain": [
       "<Figure size 576x432 with 1 Axes>"
      ]
     },
     "metadata": {
      "needs_background": "light"
     },
     "output_type": "display_data"
    }
   ],
   "source": [
    "#The color_palette() returns the the current palette as a list of RGB tuples.\n",
    "base_color = sb.color_palette()[1]\n",
    "\n",
    "#figure size\n",
    "plt.figure(figsize=(8,6))\n",
    "\n",
    "# Count the frequency of each unique value in the start_station_name column, and sort it in descending order\n",
    "freq = Ford_Bike_Data.start_station_name.value_counts()[0:10]\n",
    "\n",
    "# Get the indexes of the Series\n",
    "gen_order = freq.index\n",
    "\n",
    "#plot a count plot using seaborn\n",
    "sb.countplot(data= Ford_Bike_Data , y= \"start_station_name\", color=base_color, order = gen_order);\n",
    "\n",
    "#plot title \n",
    "plt.title(\"top 10 start stations\");"
   ]
  },
  {
   "cell_type": "markdown",
   "metadata": {},
   "source": [
    "**from the chart above I displayed the top 10 popular start stations and \"Market St at 10th st\" took the first place**"
   ]
  },
  {
   "cell_type": "markdown",
   "metadata": {},
   "source": [
    "### Q5) what are the top 10 popular start stations?"
   ]
  },
  {
   "cell_type": "code",
   "execution_count": 39,
   "metadata": {},
   "outputs": [
    {
     "data": {
      "image/png": "[encoded data removed]",
      "text/plain": [
       "<Figure size 576x432 with 1 Axes>"
      ]
     },
     "metadata": {
      "needs_background": "light"
     },
     "output_type": "display_data"
    }
   ],
   "source": [
    "#The color_palette() returns the the current palette as a list of RGB tuples.\n",
    "base_color = sb.color_palette()[1]\n",
    "\n",
    "#size of the figure\n",
    "plt.figure(figsize=(8,6))\n",
    "\n",
    "# Count the frequency of each unique value in the end_station_name column, and sort it in descending order\n",
    "freq = Ford_Bike_Data.end_station_name.value_counts()[0:10]\n",
    "\n",
    "# Get the indexes of the Series\n",
    "gen_order = freq.index\n",
    "\n",
    "#plot a count plot using seaborn\n",
    "sb.countplot(data= Ford_Bike_Data , y= \"end_station_name\", color=base_color, order = gen_order);\n",
    "\n",
    "#plot title \n",
    "plt.title(\"top 10 end stations\");"
   ]
  },
  {
   "cell_type": "markdown",
   "metadata": {},
   "source": [
    "**From the chart above I displayed the top 10 popular end stations and \"San Francisco Caltrain Station 2  (Townsend St at 4th St)\" took the first place**\n",
    "\n",
    "**From the two charts it seems that most popular start satations is also popular as a end stations and it's logical as this places may be crowded or have alot of bikes riders**"
   ]
  },
  {
   "cell_type": "markdown",
   "metadata": {},
   "source": [
    "### Q6) what is the member age distribution?"
   ]
  },
  {
   "cell_type": "code",
   "execution_count": 40,
   "metadata": {},
   "outputs": [
    {
     "name": "stderr",
     "output_type": "stream",
     "text": [
      "C:\\ProgramData\\Anaconda3\\lib\\site-packages\\scipy\\stats\\stats.py:1713: FutureWarning: Using a non-tuple sequence for multidimensional indexing is deprecated; use `arr[tuple(seq)]` instead of `arr[seq]`. In the future this will be interpreted as an array index, `arr[np.array(seq)]`, which will result either in an error or a different result.\n",
      "  return np.add.reduce(sorted[indexer] * weights, axis=axis) / sumval\n"
     ]
    },
    {
     "data": {
      "image/png": "[encoded data removed]",
      "text/plain": [
       "<Figure size 432x288 with 1 Axes>"
      ]
     },
     "metadata": {
      "needs_background": "light"
     },
     "output_type": "display_data"
    }
   ],
   "source": [
    "#set bin edges start and end\n",
    "bin_edges = np.arange(15, Ford_Bike_Data['member_age'].max()+5, 5)\n",
    "\n",
    "#plot histogram oof ages\n",
    "sb.distplot(Ford_Bike_Data['member_age'], bins = bin_edges);\n",
    "\n",
    "#plot title \n",
    "plt.title(\"member age distribution\");"
   ]
  },
  {
   "cell_type": "markdown",
   "metadata": {},
   "source": [
    "**Members ages are between 20 and 94 years old**\n",
    "\n",
    "\n",
    "**It's clear that the mean of ages is about 36 years old ,also the most frequent age is between 30 and 35 years old**\n"
   ]
  },
  {
   "cell_type": "markdown",
   "metadata": {},
   "source": [
    "### Q7) Is the old members have lowest ride duration? \\ What is the relation between members ages and duration?"
   ]
  },
  {
   "cell_type": "code",
   "execution_count": 41,
   "metadata": {},
   "outputs": [
    {
     "data": {
      "image/png": "[encoded data removed]",
      "text/plain": [
       "<Figure size 576x360 with 1 Axes>"
      ]
     },
     "metadata": {
      "needs_background": "light"
     },
     "output_type": "display_data"
    }
   ],
   "source": [
    "#size of the figure\n",
    "plt.figure(figsize=(8,5))\n",
    "\n",
    "#calculating duration in hours\n",
    "df[\"ride duration(hours)\"] = Ford_Bike_Data [\"duration_sec\"].div(3600)\n",
    "df[\"ages\"] = Ford_Bike_Data [\"member_age\"]\n",
    "\n",
    "#plotting scatter plot between duration and ages\n",
    "sb.regplot(data = df ,x = \"ages\" , y = \"ride duration(hours)\");\n",
    "\n",
    "# x,y labels names\n",
    "plt.xlabel('Members ages')\n",
    "plt.ylabel('Ride duration(hours)')\n",
    "\n",
    "#limit x and y scale\n",
    "plt.xlim(20, 100);\n",
    "plt.ylim(0, 16);\n",
    "\n",
    "#plot title \n",
    "plt.title(\"member age  vs ride duration\");"
   ]
  },
  {
   "cell_type": "markdown",
   "metadata": {},
   "source": [
    "**the relation between the members ages and ride duration is strongly negative, people above 70 years have the lowes hours duration (less than 2 hours) in the other hand the longest duration riders are between 20 and 50 years old**"
   ]
  },
  {
   "cell_type": "markdown",
   "metadata": {},
   "source": [
    "### Q8) which user type has the longest and lowest ride duration?"
   ]
  },
  {
   "cell_type": "code",
   "execution_count": 42,
   "metadata": {},
   "outputs": [
    {
     "data": {
      "image/png": "[encoded data removed]",
      "text/plain": [
       "<Figure size 432x288 with 1 Axes>"
      ]
     },
     "metadata": {
      "needs_background": "light"
     },
     "output_type": "display_data"
    }
   ],
   "source": [
    "#The color_palette() returns the the current palette as a list of RGB tuples.\n",
    "base_color = sb.color_palette()[1]\n",
    "\n",
    "#plotting box plot\n",
    "sb.boxplot(data= Ford_Bike_Data , x ='user_type', y ='duration_sec', color=base_color)\n",
    "\n",
    "#setting y limits\n",
    "plt.ylim(0, 3000);\n",
    "\n",
    "#plot title \n",
    "plt.title(\"user type vs ride duration\");"
   ]
  },
  {
   "cell_type": "markdown",
   "metadata": {},
   "source": [
    "**customers spent more time using bike than subscribers**"
   ]
  },
  {
   "cell_type": "markdown",
   "metadata": {},
   "source": [
    "### Q9) which user type has the longest and lowest ride duration?"
   ]
  },
  {
   "cell_type": "code",
   "execution_count": 43,
   "metadata": {},
   "outputs": [
    {
     "data": {
      "image/png": "[encoded data removed]",
      "text/plain": [
       "<Figure size 432x288 with 1 Axes>"
      ]
     },
     "metadata": {
      "needs_background": "light"
     },
     "output_type": "display_data"
    }
   ],
   "source": [
    "#The color_palette() returns the the current palette as a list of RGB tuples.\n",
    "base_color = sb.color_palette()[1]\n",
    "\n",
    "#plotting box plot\n",
    "sb.boxplot(data= Ford_Bike_Data , x ='member_gender', y ='duration_sec', color=base_color)\n",
    "\n",
    "#setting y limits\n",
    "plt.ylim(0, 3000);\n",
    "\n",
    "#plot title \n",
    "plt.title(\"member gender vs ride duration\");"
   ]
  },
  {
   "cell_type": "markdown",
   "metadata": {},
   "source": [
    "**althogh most of bike riders are males ,on average females have longer ride duration**"
   ]
  },
  {
   "cell_type": "markdown",
   "metadata": {},
   "source": [
    "### Q10) Are riders who share bikes for all trip have longer trip duration ?"
   ]
  },
  {
   "cell_type": "code",
   "execution_count": 44,
   "metadata": {
    "scrolled": true
   },
   "outputs": [
    {
     "data": {
      "image/png": "[encoded data removed]",
      "text/plain": [
       "<Figure size 432x288 with 1 Axes>"
      ]
     },
     "metadata": {
      "needs_background": "light"
     },
     "output_type": "display_data"
    }
   ],
   "source": [
    "#The color_palette() returns the the current palette as a list of RGB tuples.\n",
    "base_color = sb.color_palette()[1]\n",
    "\n",
    "#plotting box plot\n",
    "sb.boxplot(data= Ford_Bike_Data , x ='bike_share_for_all_trip', y ='duration_sec', color=base_color)\n",
    "\n",
    "#setting y limits\n",
    "plt.ylim(0, 4000);\n",
    "\n",
    "#plot title \n",
    "plt.title(\"bike share for all trip vs ride duration\");"
   ]
  },
  {
   "cell_type": "markdown",
   "metadata": {},
   "source": [
    "**No it is not true members that do not share bike for all trip have longer trip!**"
   ]
  },
  {
   "cell_type": "markdown",
   "metadata": {},
   "source": [
    "### Q11)  what is the relation between  members genders and days?"
   ]
  },
  {
   "cell_type": "code",
   "execution_count": 45,
   "metadata": {},
   "outputs": [
    {
     "data": {
      "image/png": "[encoded data removed]",
      "text/plain": [
       "<Figure size 576x432 with 1 Axes>"
      ]
     },
     "metadata": {
      "needs_background": "light"
     },
     "output_type": "display_data"
    }
   ],
   "source": [
    "#figure size\n",
    "plt.figure(figsize=(8,6));\n",
    "\n",
    "#sort days of the week\n",
    "gen_order = ['Saturday', 'Sunday','Monday','Tuesday', 'Wednesday' , 'Thursday' ,'Friday']\n",
    "\n",
    "#plotting count plot\n",
    "sb.countplot(data = Ford_Bike_Data, x = 'ride_day_of_week', hue = 'member_gender', palette=\"muted\",order= gen_order);\n",
    "\n",
    "#plot title \n",
    "plt.title(\"count of gender each day of the week\");"
   ]
  },
  {
   "cell_type": "markdown",
   "metadata": {},
   "source": [
    "**It seems that both males and females use bikes mostly in Thursday ,also a fewest number of both use bikes in saturday and sunday**"
   ]
  },
  {
   "cell_type": "markdown",
   "metadata": {},
   "source": [
    "### Q12)  what is the relation between  members genders and  days?"
   ]
  },
  {
   "cell_type": "code",
   "execution_count": 46,
   "metadata": {},
   "outputs": [
    {
     "data": {
      "image/png": "[encoded data removed]",
      "text/plain": [
       "<Figure size 576x432 with 1 Axes>"
      ]
     },
     "metadata": {
      "needs_background": "light"
     },
     "output_type": "display_data"
    }
   ],
   "source": [
    "#figure size\n",
    "plt.figure(figsize=(8,6));\n",
    "\n",
    "#sort days of the week\n",
    "gen_order = ['Saturday', 'Sunday','Monday','Tuesday', 'Wednesday' , 'Thursday' ,'Friday']\n",
    "\n",
    "sb.countplot(data = Ford_Bike_Data, x = 'ride_day_of_week', hue = 'user_type',palette=\"muted\",order=gen_order);\n",
    "\n",
    "#plot title \n",
    "plt.title(\"count of user type each day of the week\");"
   ]
  },
  {
   "cell_type": "markdown",
   "metadata": {},
   "source": [
    "**Most of customers and subscribers use bikes at Thursday**\n",
    "\n",
    "\n",
    "**Number of customers that use bikes each day is very close!**"
   ]
  },
  {
   "cell_type": "markdown",
   "metadata": {},
   "source": [
    "### Q13) What is the relation between ride duration and both age and gender of the members?"
   ]
  },
  {
   "cell_type": "code",
   "execution_count": 47,
   "metadata": {},
   "outputs": [
    {
     "data": {
      "image/png": "[encoded data removed]",
      "text/plain": [
       "<Figure size 504.625x432 with 1 Axes>"
      ]
     },
     "metadata": {
      "needs_background": "light"
     },
     "output_type": "display_data"
    }
   ],
   "source": [
    "#calculating duration in hours\n",
    "df[\"ride duration(hours)\"] = Ford_Bike_Data [\"duration_sec\"].div(3600)\n",
    "df[\"ages\"] = Ford_Bike_Data [\"member_age\"]\n",
    "df[\"gender\"] = Ford_Bike_Data [\"member_gender\"]\n",
    "\n",
    "#plotting scatter plot \n",
    "g = sb.FacetGrid(data = df, hue = 'gender', height = 6)\n",
    "g.map(plt.scatter, 'ages', 'ride duration(hours)')\n",
    "g.add_legend()\n",
    "\n",
    "# x,y labels names\n",
    "plt.xlabel('Members ages')\n",
    "plt.ylabel('Ride duration(hours)')\n",
    "\n",
    "#limit x and y scale\n",
    "plt.xlim(20, 100);\n",
    "plt.ylim(0, 16);\n",
    "\n",
    "#plot title \n",
    "plt.title(\"relation between member ages, gender and ride duration\");"
   ]
  },
  {
   "cell_type": "markdown",
   "metadata": {},
   "source": [
    "**It's a strongly negative relation between ages and duration**\n",
    "\n",
    "**Both males and females who are between 20 and 50 years old have long ride duration hours**\n",
    "\n",
    "**Both males and females  who above 60 years old have short ride duration**"
   ]
  },
  {
   "cell_type": "markdown",
   "metadata": {},
   "source": [
    "### Q14) what is the relation betwwen the ride duration ,gender,ages and if the bike shared for all trip or not?"
   ]
  },
  {
   "cell_type": "code",
   "execution_count": 48,
   "metadata": {},
   "outputs": [
    {
     "data": {
      "image/png": "[encoded data removed]",
      "text/plain": [
       "<Figure size 648x432 with 6 Axes>"
      ]
     },
     "metadata": {
      "needs_background": "light"
     },
     "output_type": "display_data"
    }
   ],
   "source": [
    "g = sb.FacetGrid(data = df, col = 'gender', row = 'bike_share_for_all_trip', height = 3,\n",
    "                margin_titles = True)\n",
    "g.map(plt.scatter, 'ages', 'ride duration(hours)');"
   ]
  },
  {
   "cell_type": "markdown",
   "metadata": {},
   "source": [
    "**most of males and womans whoes age betwwen 20 and 50 and have a long ride duration did not share the bike for all trip**\n",
    "\n",
    "**In all genders and ages people who did not share bike for all trip are more than who did**\n",
    "\n",
    "**males and females who shared bike for all trip are more than other who did**\n"
   ]
  }
 ],
 "metadata": {
  "kernelspec": {
   "display_name": "Python 3",
   "language": "python",
   "name": "python3"
  },
  "language_info": {
   "codemirror_mode": {
    "name": "ipython",
    "version": 3
   },
   "file_extension": ".py",
   "mimetype": "text/x-python",
   "name": "python",
   "nbconvert_exporter": "python",
   "pygments_lexer": "ipython3",
   "version": "3.7.1"
  }
 },
 "nbformat": 4,
 "nbformat_minor": 2
}
